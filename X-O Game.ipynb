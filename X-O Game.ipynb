{
 "cells": [
  {
   "cell_type": "code",
   "execution_count": 1,
   "id": "033212bf",
   "metadata": {},
   "outputs": [
    {
     "name": "stdout",
     "output_type": "stream",
     "text": [
      "^C\n"
     ]
    }
   ],
   "source": [
    "!streamlit run Home.py"
   ]
  },
  {
   "cell_type": "code",
   "execution_count": null,
   "id": "53ca7fb8",
   "metadata": {},
   "outputs": [],
   "source": [
    "# Let's save the provided code into a Python file\n",
    "\n",
    "code = \"\"\"\n",
    "import streamlit as st\n",
    "\n",
    "def create_board():\n",
    "    return [[\" \" for _ in range(3)] for _ in range(3)]\n",
    "\n",
    "def print_board(board):\n",
    "    for row in board:\n",
    "        st.write(\" | \".join(row))\n",
    "        st.write(\"-\" * 9)\n",
    "\n",
    "def check_win(board, player):\n",
    "    win_conditions = [\n",
    "        [board[0][0], board[0][1], board[0][2]],  # Row 1\n",
    "        [board[1][0], board[1][1], board[1][2]],  # Row 2\n",
    "        [board[2][0], board[2][1], board[2][2]],  # Row 3\n",
    "        [board[0][0], board[1][0], board[2][0]],  # Column 1\n",
    "        [board[0][1], board[1][1], board[2][1]],  # Column 2\n",
    "        [board[0][2], board[1][2], board[2][2]],  # Column 3\n",
    "        [board[0][0], board[1][1], board[2][2]],  # Diagonal 1\n",
    "        [board[0][2], board[1][1], board[2][0]]   # Diagonal 2\n",
    "    ]\n",
    "    return [player, player, player] in win_conditions\n",
    "\n",
    "def check_tie(board):\n",
    "    return all(cell != \" \" for row in board for cell in row)\n",
    "\n",
    "def reset_game():\n",
    "    st.session_state.board = create_board()\n",
    "    st.session_state.current_player = \"X\"\n",
    "    st.session_state.game_over = False\n",
    "    st.session_state.winner = None\n",
    "\n",
    "def tic_tac_toe():\n",
    "    if 'board' not in st.session_state:\n",
    "        reset_game()\n",
    "\n",
    "    st.title(\"Tic Tac Toe\")\n",
    "\n",
    "    # Display the board\n",
    "    print_board(st.session_state.board)\n",
    "\n",
    "    if st.session_state.game_over:\n",
    "        if st.session_state.winner:\n",
    "            st.write(f\"Player {st.session_state.winner} wins!\")\n",
    "        else:\n",
    "            st.write(\"It's a tie!\")\n",
    "        if st.button(\"Play Again\"):\n",
    "            reset_game()\n",
    "    else:\n",
    "        st.write(f\"Player {st.session_state.current_player}'s turn\")\n",
    "\n",
    "        # Grid of buttons for player moves\n",
    "        cols = st.columns(3)\n",
    "        for i in range(3):\n",
    "            for j in range(3):\n",
    "                with cols[j]:\n",
    "                    if st.button(f\"{st.session_state.board[i][j]}\", key=f\"btn_{i}_{j}\", disabled=st.session_state.board[i][j] != \" \"):\n",
    "                        st.rerun()\n",
    "                        if not st.session_state.game_over:\n",
    "                            st.session_state.board[i][j] = st.session_state.current_player\n",
    "                            if check_win(st.session_state.board, st.session_state.current_player):\n",
    "                                st.session_state.game_over = True\n",
    "                                st.session_state.winner = st.session_state.current_player\n",
    "                            elif check_tie(st.session_state.board):\n",
    "                                st.session_state.game_over = True\n",
    "                            else:\n",
    "                                st.session_state.current_player = \"O\" if st.session_state.current_player == \"X\" else \"X\"\n",
    "\n",
    "if __name__ == \"__main__\":\n",
    "    tic_tac_toe()\n",
    "\"\"\"\n",
    "\n",
    "# Saving to tic_tac_toe_streamlit.py file\n",
    "file_path = 'tic_tac_toe_streamlit.py'\n",
    "with open(file_path, 'w') as file:\n",
    "    file.write(code)"
   ]
  }
 ],
 "metadata": {
  "kernelspec": {
   "display_name": "Python 3 (ipykernel)",
   "language": "python",
   "name": "python3"
  },
  "language_info": {
   "codemirror_mode": {
    "name": "ipython",
    "version": 3
   },
   "file_extension": ".py",
   "mimetype": "text/x-python",
   "name": "python",
   "nbconvert_exporter": "python",
   "pygments_lexer": "ipython3",
   "version": "3.11.5"
  }
 },
 "nbformat": 4,
 "nbformat_minor": 5
}
